{
 "cells": [
  {
   "cell_type": "code",
   "execution_count": 1,
   "id": "aa8fb48d-62d1-4cd5-9afc-333d655ec1f8",
   "metadata": {},
   "outputs": [
    {
     "name": "stderr",
     "output_type": "stream",
     "text": [
      "usage: scattergories.py [-h] [--categorydir CATEGORYDIR] query\n",
      "scattergories.py: error: unrecognized arguments: -f\n"
     ]
    },
    {
     "ename": "SystemExit",
     "evalue": "2",
     "output_type": "error",
     "traceback": [
      "An exception has occurred, use %tb to see the full traceback.\n",
      "\u001b[0;31mSystemExit\u001b[0m\u001b[0;31m:\u001b[0m 2\n"
     ]
    },
    {
     "name": "stderr",
     "output_type": "stream",
     "text": [
      "/opt/linux/rocky/8.x/x86_64/pkgs/jupyterhub/4.0.2/env/lib/python3.11/site-packages/IPython/core/interactiveshell.py:3534: UserWarning: To exit: use 'exit', 'quit', or Ctrl-D.\n",
      "  warn(\"To exit: use 'exit', 'quit', or Ctrl-D.\", stacklevel=1)\n"
     ]
    }
   ],
   "source": [
    "import os\n",
    "import re\n",
    "import argparse\n",
    "import sys\n",
    "\n",
    "parser = argparse.ArgumentParser(prog=\"scattergories.py\", description=\"A program to tell you what category a word is in\")\n",
    "parser.add_argument(\"query\", help=\"The word you want to know the category of\", type=str)\n",
    "parser.add_argument(\"--categorydir\", default='categories', help=\"The directory of category files\", type=str)\n",
    "args = parser.parse_args()\n",
    "query = args.query\n",
    "\n",
    "category_data = {}\n",
    "for file in os.listdir(args.categorydir):\n",
    "    if file.endswith(\".txt\"):\n",
    "        category_name = file.spilt(\".\")[0]\n",
    "        with open(os.path.join(args.categorydir, file), 'r') as f:\n",
    "            for line in f:\n",
    "                category_data[file] = f.read().spiltlines()\n",
    "\n",
    "\n",
    "print(f'What category is {query} in?')\n",
    "# add code to print out what the query category is in, AND/OR print out \"Unknown\" for the category\"\n",
    "category = \"Unknown\"\n",
    "if query in category_data:\n",
    "    category = category_data[query]\n",
    "print(category)"
   ]
  },
  {
   "cell_type": "code",
   "execution_count": 2,
   "id": "91c1024f-d0a3-4216-9835-386eb735ac66",
   "metadata": {},
   "outputs": [
    {
     "name": "stdout",
     "output_type": "stream",
     "text": [
      "  File \"/bigdata/stajichlab/nisma004/gen220/homework/2023-hw3-Nismail17/categories/scattergories.py\", line 18\n",
      "    def read_and_assign_terms(clothing.txt, delimiter=','):\n",
      "                                      ^\n",
      "SyntaxError: invalid syntax\n"
     ]
    }
   ],
   "source": [
    "!python scattergories.py your_query --categorydir your_category_directory"
   ]
  },
  {
   "cell_type": "code",
   "execution_count": 8,
   "id": "cba5d5c7-fb04-43c5-b96a-485c74eaf94b",
   "metadata": {},
   "outputs": [
    {
     "name": "stderr",
     "output_type": "stream",
     "text": [
      "usage: scattergories.py [-h] [--categorydir CATEGORYDIR] query\n",
      "scattergories.py: error: unrecognized arguments: -f\n"
     ]
    },
    {
     "ename": "SystemExit",
     "evalue": "2",
     "output_type": "error",
     "traceback": [
      "An exception has occurred, use %tb to see the full traceback.\n",
      "\u001b[0;31mSystemExit\u001b[0m\u001b[0;31m:\u001b[0m 2\n"
     ]
    }
   ],
   "source": [
    "import os\n",
    "import re\n",
    "import argparse\n",
    "import sys\n",
    "\n",
    "parser = argparse.ArgumentParser(prog=\"scattergories.py\", description=\"A program to tell you what category a word is in\")\n",
    "parser.add_argument(\"query\", help=\"The word you want to know the category of\", type=str)\n",
    "parser.add_argument(\"--categorydir\", default='categories', help=\"The directory of category files\", type=str)\n",
    "args = parser.parse_args()\n",
    "query = args.query\n",
    "\n",
    "category_data = {}\n",
    "for file in os.listdir(args.categorydir):\n",
    "    if file.endswith(\".txt\"):\n",
    "        category_name = file.spilt('.')[0]\n",
    "        with open(os.path.join(args.categorydir, file), 'r') as f:\n",
    "            for line in f:\n",
    "                category_data[line.strip()] = category_name\n",
    "\n",
    "\n",
    "print(f'What category is {query} in?')\n",
    "# add code to print out what the query category is in, AND/OR print out \"Unknown\" for the category\"\n",
    "category = \"Unknown\"\n",
    "if query in category_data:\n",
    "    category = category_data[query]\n",
    "print(category)"
   ]
  },
  {
   "cell_type": "code",
   "execution_count": 10,
   "id": "f99cd345-c89b-4f74-9394-aa8c548a7b7a",
   "metadata": {},
   "outputs": [
    {
     "name": "stderr",
     "output_type": "stream",
     "text": [
      "usage: scattergories.py [-h] [--categorydir CATEGORYDIR] query\n",
      "scattergories.py: error: unrecognized arguments: -f\n"
     ]
    },
    {
     "ename": "SystemExit",
     "evalue": "2",
     "output_type": "error",
     "traceback": [
      "An exception has occurred, use %tb to see the full traceback.\n",
      "\u001b[0;31mSystemExit\u001b[0m\u001b[0;31m:\u001b[0m 2\n"
     ]
    }
   ],
   "source": [
    "import os\n",
    "import re\n",
    "import argparse\n",
    "import sys\n",
    "\n",
    "parser = argparse.ArgumentParser(prog=\"scattergories.py\", description=\"A program to tell you what category a word is in\")\n",
    "parser.add_argument(\"query\", help=\"The word you want to know the category of\", type=str)\n",
    "parser.add_argument(\"--categorydir\", default='categories', help=\"The directory of category files\", type=str)\n",
    "args = parser.parse_args()\n",
    "query = args.query\n",
    "\n",
    "category_data = {}\n",
    "for file in os.listdir(args.categorydir):\n",
    "    if file.endswith(\".txt\"):\n",
    "        category_name = file.spilt('.')[0]\n",
    "        with open(os.path.join(args.categorydir, file), 'r') as f:\n",
    "            for line in f:\n",
    "                category_data[line.strip()] = category_name\n",
    "\n",
    "\n",
    "print(f'What category is {query} in?')\n",
    "category = \"Unknown\"\n",
    "if query in category_data:\n",
    "    category = category_data[query]\n",
    "print(category)"
   ]
  },
  {
   "cell_type": "code",
   "execution_count": 11,
   "id": "72a79b3d-0e6b-43d5-acca-cfc1bfff0e2c",
   "metadata": {},
   "outputs": [
    {
     "name": "stderr",
     "output_type": "stream",
     "text": [
      "usage: scattergories.py [-h] [--categorydir CATEGORYDIR] query\n",
      "scattergories.py: error: unrecognized arguments: -f\n"
     ]
    },
    {
     "ename": "SystemExit",
     "evalue": "2",
     "output_type": "error",
     "traceback": [
      "An exception has occurred, use %tb to see the full traceback.\n",
      "\u001b[0;31mSystemExit\u001b[0m\u001b[0;31m:\u001b[0m 2\n"
     ]
    }
   ],
   "source": [
    "import os\n",
    "import re\n",
    "import argparse\n",
    "import sys\n",
    "\n",
    "parser = argparse.ArgumentParser(prog=\"scattergories.py\", description=\"A program to tell you what category a word is in\")\n",
    "parser.add_argument(\"query\", help=\"The word you want to know the category of\", type=str)\n",
    "parser.add_argument(\"--categorydir\", default='categories', help=\"The directory of category files\", type=str)\n",
    "args = parser.parse_args()\n",
    "query = args.query\n",
    "\n",
    "category_data = {}\n",
    "for file in os.listdir(args.categorydir):\n",
    "    if file.endswith(\".txt\"):\n",
    "        category_name = file.split('.')[0]\n",
    "        with open(os.path.join(args.categorydir, file), 'r') as f:\n",
    "            for line in f:\n",
    "                category_data[line.strip()] = category_name\n",
    "\n",
    "\n",
    "print(f'What category is {query} in?')\n",
    "category = \"Unknown\"\n",
    "if query in category_data:\n",
    "    category = category_data[query]\n",
    "print(category)"
   ]
  },
  {
   "cell_type": "code",
   "execution_count": 1,
   "id": "afc26d9f-d09e-4b91-8483-2ec7ccee8020",
   "metadata": {},
   "outputs": [
    {
     "name": "stderr",
     "output_type": "stream",
     "text": [
      "usage: scattergories.py [-h] [--categorydir CATEGORYDIR] query\n",
      "scattergories.py: error: unrecognized arguments: -f\n"
     ]
    },
    {
     "ename": "SystemExit",
     "evalue": "2",
     "output_type": "error",
     "traceback": [
      "An exception has occurred, use %tb to see the full traceback.\n",
      "\u001b[0;31mSystemExit\u001b[0m\u001b[0;31m:\u001b[0m 2\n"
     ]
    },
    {
     "name": "stderr",
     "output_type": "stream",
     "text": [
      "/opt/linux/rocky/8.x/x86_64/pkgs/jupyterhub/4.0.2/env/lib/python3.11/site-packages/IPython/core/interactiveshell.py:3534: UserWarning: To exit: use 'exit', 'quit', or Ctrl-D.\n",
      "  warn(\"To exit: use 'exit', 'quit', or Ctrl-D.\", stacklevel=1)\n"
     ]
    }
   ],
   "source": [
    "import os\n",
    "import re\n",
    "import argparse\n",
    "import sys\n",
    "\n",
    "parser = argparse.ArgumentParser(prog=\"scattergories.py\", description=\"A program to tell you what category a word is in\")\n",
    "parser.add_argument(\"query\", help=\"The word you want to know the category of\", type=str)\n",
    "parser.add_argument(\"--categorydir\", default='categories', help=\"The directory of category files\", type=str)\n",
    "args = parser.parse_args()\n",
    "query = args.query\n",
    "\n",
    "category_data = {}\n",
    "for file in os.listdir(args.categorydir):\n",
    "    if file.endswith(\".txt\"):\n",
    "        category_name = file.split('.')[0]  \n",
    "        with open(os.path.join(args.categorydir, file), 'r') as f:\n",
    "            for line in f:\n",
    "                category_data[line.strip()] = category_name\n",
    "\n",
    "print(f'What category is {query} in?')\n",
    "category = \"Unknown\"\n",
    "if query in category_data:\n",
    "    category = category_data[query]\n",
    "print(category)\n"
   ]
  },
  {
   "cell_type": "code",
   "execution_count": 2,
   "id": "58804261-6366-4ff1-91bd-7ee15dc1dbf3",
   "metadata": {},
   "outputs": [
    {
     "ename": "SystemExit",
     "evalue": "2",
     "output_type": "error",
     "traceback": [
      "\u001b[0;31m---------------------------------------------------------------------------\u001b[0m",
      "\u001b[0;31mSystemExit\u001b[0m                                Traceback (most recent call last)",
      "Cell \u001b[0;32mIn[1], line 9\u001b[0m\n\u001b[1;32m      7\u001b[0m parser\u001b[38;5;241m.\u001b[39madd_argument(\u001b[38;5;124m\"\u001b[39m\u001b[38;5;124mquery\u001b[39m\u001b[38;5;124m\"\u001b[39m, help\u001b[38;5;241m=\u001b[39m\u001b[38;5;124m\"\u001b[39m\u001b[38;5;124mThe word you want to know the category of\u001b[39m\u001b[38;5;124m\"\u001b[39m, \u001b[38;5;28mtype\u001b[39m\u001b[38;5;241m=\u001b[39m\u001b[38;5;28mstr\u001b[39m)\n\u001b[1;32m      8\u001b[0m parser\u001b[38;5;241m.\u001b[39madd_argument(\u001b[38;5;124m\"\u001b[39m\u001b[38;5;124m--categorydir\u001b[39m\u001b[38;5;124m\"\u001b[39m, default\u001b[38;5;241m=\u001b[39m\u001b[38;5;124m'\u001b[39m\u001b[38;5;124mcategories\u001b[39m\u001b[38;5;124m'\u001b[39m, help\u001b[38;5;241m=\u001b[39m\u001b[38;5;124m\"\u001b[39m\u001b[38;5;124mThe directory of category files\u001b[39m\u001b[38;5;124m\"\u001b[39m, \u001b[38;5;28mtype\u001b[39m\u001b[38;5;241m=\u001b[39m\u001b[38;5;28mstr\u001b[39m)\n\u001b[0;32m----> 9\u001b[0m args \u001b[38;5;241m=\u001b[39m \u001b[43mparser\u001b[49m\u001b[38;5;241;43m.\u001b[39;49m\u001b[43mparse_args\u001b[49m\u001b[43m(\u001b[49m\u001b[43m)\u001b[49m\n\u001b[1;32m     10\u001b[0m query \u001b[38;5;241m=\u001b[39m args\u001b[38;5;241m.\u001b[39mquery\n\u001b[1;32m     12\u001b[0m category_data \u001b[38;5;241m=\u001b[39m {}\n",
      "File \u001b[0;32m/opt/linux/rocky/8.x/x86_64/pkgs/jupyterhub/4.0.2/env/lib/python3.11/argparse.py:1872\u001b[0m, in \u001b[0;36mArgumentParser.parse_args\u001b[0;34m(self, args, namespace)\u001b[0m\n\u001b[1;32m   1870\u001b[0m \u001b[38;5;28;01mif\u001b[39;00m argv:\n\u001b[1;32m   1871\u001b[0m     msg \u001b[38;5;241m=\u001b[39m _(\u001b[38;5;124m'\u001b[39m\u001b[38;5;124munrecognized arguments: \u001b[39m\u001b[38;5;132;01m%s\u001b[39;00m\u001b[38;5;124m'\u001b[39m)\n\u001b[0;32m-> 1872\u001b[0m     \u001b[38;5;28;43mself\u001b[39;49m\u001b[38;5;241;43m.\u001b[39;49m\u001b[43merror\u001b[49m\u001b[43m(\u001b[49m\u001b[43mmsg\u001b[49m\u001b[43m \u001b[49m\u001b[38;5;241;43m%\u001b[39;49m\u001b[43m \u001b[49m\u001b[38;5;124;43m'\u001b[39;49m\u001b[38;5;124;43m \u001b[39;49m\u001b[38;5;124;43m'\u001b[39;49m\u001b[38;5;241;43m.\u001b[39;49m\u001b[43mjoin\u001b[49m\u001b[43m(\u001b[49m\u001b[43margv\u001b[49m\u001b[43m)\u001b[49m\u001b[43m)\u001b[49m\n\u001b[1;32m   1873\u001b[0m \u001b[38;5;28;01mreturn\u001b[39;00m args\n",
      "File \u001b[0;32m/opt/linux/rocky/8.x/x86_64/pkgs/jupyterhub/4.0.2/env/lib/python3.11/argparse.py:2630\u001b[0m, in \u001b[0;36mArgumentParser.error\u001b[0;34m(self, message)\u001b[0m\n\u001b[1;32m   2628\u001b[0m \u001b[38;5;28mself\u001b[39m\u001b[38;5;241m.\u001b[39mprint_usage(_sys\u001b[38;5;241m.\u001b[39mstderr)\n\u001b[1;32m   2629\u001b[0m args \u001b[38;5;241m=\u001b[39m {\u001b[38;5;124m'\u001b[39m\u001b[38;5;124mprog\u001b[39m\u001b[38;5;124m'\u001b[39m: \u001b[38;5;28mself\u001b[39m\u001b[38;5;241m.\u001b[39mprog, \u001b[38;5;124m'\u001b[39m\u001b[38;5;124mmessage\u001b[39m\u001b[38;5;124m'\u001b[39m: message}\n\u001b[0;32m-> 2630\u001b[0m \u001b[38;5;28;43mself\u001b[39;49m\u001b[38;5;241;43m.\u001b[39;49m\u001b[43mexit\u001b[49m\u001b[43m(\u001b[49m\u001b[38;5;241;43m2\u001b[39;49m\u001b[43m,\u001b[49m\u001b[43m \u001b[49m\u001b[43m_\u001b[49m\u001b[43m(\u001b[49m\u001b[38;5;124;43m'\u001b[39;49m\u001b[38;5;132;43;01m%(prog)s\u001b[39;49;00m\u001b[38;5;124;43m: error: \u001b[39;49m\u001b[38;5;132;43;01m%(message)s\u001b[39;49;00m\u001b[38;5;130;43;01m\\n\u001b[39;49;00m\u001b[38;5;124;43m'\u001b[39;49m\u001b[43m)\u001b[49m\u001b[43m \u001b[49m\u001b[38;5;241;43m%\u001b[39;49m\u001b[43m \u001b[49m\u001b[43margs\u001b[49m\u001b[43m)\u001b[49m\n",
      "File \u001b[0;32m/opt/linux/rocky/8.x/x86_64/pkgs/jupyterhub/4.0.2/env/lib/python3.11/argparse.py:2617\u001b[0m, in \u001b[0;36mArgumentParser.exit\u001b[0;34m(self, status, message)\u001b[0m\n\u001b[1;32m   2615\u001b[0m \u001b[38;5;28;01mif\u001b[39;00m message:\n\u001b[1;32m   2616\u001b[0m     \u001b[38;5;28mself\u001b[39m\u001b[38;5;241m.\u001b[39m_print_message(message, _sys\u001b[38;5;241m.\u001b[39mstderr)\n\u001b[0;32m-> 2617\u001b[0m \u001b[43m_sys\u001b[49m\u001b[38;5;241;43m.\u001b[39;49m\u001b[43mexit\u001b[49m\u001b[43m(\u001b[49m\u001b[43mstatus\u001b[49m\u001b[43m)\u001b[49m\n",
      "\u001b[0;31mSystemExit\u001b[0m: 2"
     ]
    }
   ],
   "source": [
    "%tb"
   ]
  },
  {
   "cell_type": "code",
   "execution_count": 7,
   "id": "4be3884d-72ce-48d8-9ca4-948b169646e9",
   "metadata": {},
   "outputs": [
    {
     "name": "stderr",
     "output_type": "stream",
     "text": [
      "usage: scattergories.py [-h] [--categorydir CATEGORYDIR] query\n",
      "scattergories.py: error: unrecognized arguments: -f\n"
     ]
    },
    {
     "ename": "SystemExit",
     "evalue": "2",
     "output_type": "error",
     "traceback": [
      "An exception has occurred, use %tb to see the full traceback.\n",
      "\u001b[0;31mSystemExit\u001b[0m\u001b[0;31m:\u001b[0m 2\n"
     ]
    }
   ],
   "source": [
    "import os\n",
    "import re\n",
    "import argparse\n",
    "import sys\n",
    "\n",
    "parser = argparse.ArgumentParser(prog=\"scattergories.py\", description=\"A program to tell you what category a word is in\")\n",
    "parser.add_argument(\"query\", help=\"The word you want to know the category of\", type=str)\n",
    "parser.add_argument(\"--categorydir\", default='categories', help=\"The directory of category files\", type=str)\n",
    "args = parser.parse_args()\n",
    "query = args.query\n",
    "\n",
    "category_data = {}\n",
    "for file in os.listdir(args.categorydir):\n",
    "    if file.endswith(\".txt\"):\n",
    "        category_name = file.split('.')[0]  \n",
    "        with open(os.path.join(args.categorydir, file), 'r') as f:\n",
    "            for line in f:\n",
    "                category_data[line.strip()] = category_name\n",
    "\n",
    "print(f'What category is {query} in?')\n",
    "category = \"Unknown\"\n",
    "if query in category_data:\n",
    "    category = category_data[query]\n",
    "print(f'{query} is a {category}')\n"
   ]
  },
  {
   "cell_type": "code",
   "execution_count": 9,
   "id": "606aee90-14ff-4e9c-8ef5-b281571c87f1",
   "metadata": {},
   "outputs": [
    {
     "name": "stderr",
     "output_type": "stream",
     "text": [
      "usage: scattergories.py [-h] [--categorydir CATEGORYDIR] query\n",
      "scattergories.py: error: unrecognized arguments: -f\n"
     ]
    },
    {
     "ename": "SystemExit",
     "evalue": "2",
     "output_type": "error",
     "traceback": [
      "An exception has occurred, use %tb to see the full traceback.\n",
      "\u001b[0;31mSystemExit\u001b[0m\u001b[0;31m:\u001b[0m 2\n"
     ]
    }
   ],
   "source": [
    "import os\n",
    "import re\n",
    "import argparse\n",
    "import sys\n",
    "\n",
    "parser = argparse.ArgumentParser(prog=\"scattergories.py\", description=\"A program to tell you what category a word is in\")\n",
    "parser.add_argument(\"query\", help=\"The word you want to know the category of\", type=str)\n",
    "parser.add_argument(\"--categorydir\", default='categories', help=\"The directory of category files\", type=str)\n",
    "args = parser.parse_args()\n",
    "query = args.query\n",
    "\n",
    "category_data = {} \n",
    "for file in os.listdir(args.categorydir):\n",
    "    if file.endswith(\".txt\"):\n",
    "        category_name = file.split('.')[0]  \n",
    "        with open(os.path.join(args.categorydir, file), 'r') as f:\n",
    "            for line in f:\n",
    "                category_data[line.strip()] = category_name\n",
    "\n",
    "print(f'What category is {query} in?')\n",
    "category = \"Unknown\"\n",
    "if query in category_data:\n",
    "    category = category_data[query]\n",
    "print(f'{query} is a {category}')"
   ]
  },
  {
   "cell_type": "code",
   "execution_count": null,
   "id": "49322968-7d46-486a-bfe6-b0607f54a305",
   "metadata": {},
   "outputs": [],
   "source": []
  }
 ],
 "metadata": {
  "kernelspec": {
   "display_name": "Python 3 (ipykernel)",
   "language": "python",
   "name": "python3"
  },
  "language_info": {
   "codemirror_mode": {
    "name": "ipython",
    "version": 3
   },
   "file_extension": ".py",
   "mimetype": "text/x-python",
   "name": "python",
   "nbconvert_exporter": "python",
   "pygments_lexer": "ipython3",
   "version": "3.11.6"
  }
 },
 "nbformat": 4,
 "nbformat_minor": 5
}
