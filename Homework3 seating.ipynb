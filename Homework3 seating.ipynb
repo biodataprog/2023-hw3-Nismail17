{
 "cells": [
  {
   "cell_type": "code",
   "execution_count": 38,
   "id": "e359e0c0-041d-48e6-a861-b8f48b3a7d80",
   "metadata": {},
   "outputs": [
    {
     "name": "stdout",
     "output_type": "stream",
     "text": [
      "The guestlist file is guests_20.txt\n",
      "The number of guests per table is 4\n",
      "Unknown arguments: ['-f', '/rhome/nisma004/.local/share/jupyter/runtime/kernel-1f8a3bad-e358-4307-ad16-9d567719e956.json']\n"
     ]
    }
   ],
   "source": [
    "#!/usr/bin/env python3\n",
    "\n",
    "# you will have some code here to do the work\n",
    "import argparse\n",
    "\n",
    "parser = argparse.ArgumentParser(prog=\"Assign guests to Tables\")\n",
    "\n",
    "parser.add_argument('-g', \"--guests\", \n",
    "                    default=\"guests_20.txt\",\n",
    "                    help='list of guests')\n",
    "parser.add_argument('-t', \"--num_per_table\", type=int, \n",
    "                    default=4, \n",
    "                    help='number of tables')\n",
    "args, unknown_args = parser.parse_known_args()\n",
    "\n",
    "num_per_table = args.num_per_table\n",
    "guestlistfile = args.guests\n",
    "print(f'The guestlist file is {guestlistfile}')\n",
    "print(f'The number of guests per table is {num_per_table}')\n",
    "\n",
    "# Continue with your code, and you can print or handle unknown_args if needed\n",
    "print(f'Unknown arguments: {unknown_args}')\n",
    "\n",
    "tables = [4]\n",
    "guestscount = 20\n",
    "\n",
    "guests = []\n",
    "with open(\"guests_20.txt\", 'r') as f:\n",
    "        guests = f.read().strip(\"\\n\").split(\"\\n\")      "
   ]
  },
  {
   "cell_type": "code",
   "execution_count": 42,
   "id": "29197e53-3406-4507-a10f-17948428bbf7",
   "metadata": {},
   "outputs": [
    {
     "name": "stdout",
     "output_type": "stream",
     "text": [
      "['Maddison Crosby', 'Tristen Nixon', 'Deborah Rosario', 'Jedidiah Tate', 'Skye Day', 'Kayson Beard', 'Ezra Daugherty', 'Turner Cherry', 'Nyomi Richardson', 'Robert Quintero', 'Keyla Holt', 'Niko Berger', 'Laylah Orozco', 'Keanu Reyna', 'Luella Miller', 'Benjamin Avila', 'Amiyah Whitaker', 'Keith Arnold', 'Finley Guerra', 'Leland Marsh']\n"
     ]
    }
   ],
   "source": [
    "guests = []\n",
    "with open(\"guests_20.txt\", 'r') as f:\n",
    "        guests = f.read().strip(\"\\n\").split(\"\\n\")\n",
    "print(guests)"
   ]
  },
  {
   "cell_type": "code",
   "execution_count": 43,
   "id": "24c00cc7-b021-4f29-844a-f85a3ab2b2d0",
   "metadata": {},
   "outputs": [
    {
     "name": "stdout",
     "output_type": "stream",
     "text": [
      "20\n"
     ]
    }
   ],
   "source": [
    "guestscount = len(guests)\n",
    "print(guestscount)"
   ]
  },
  {
   "cell_type": "code",
   "execution_count": 44,
   "id": "f037f94a-49b1-4f94-a90e-57eaf4762178",
   "metadata": {},
   "outputs": [
    {
     "name": "stdout",
     "output_type": "stream",
     "text": [
      "There are 5 per table requested, that means 4 table\n"
     ]
    }
   ],
   "source": [
    "num_per_table = 5\n",
    "print(f'There are {num_per_table} per table requested, that means {int(guestscount/num_per_table)} table')"
   ]
  },
  {
   "cell_type": "code",
   "execution_count": 45,
   "id": "1deb020b-ea0b-489b-afb5-e241a1398e49",
   "metadata": {},
   "outputs": [
    {
     "name": "stdout",
     "output_type": "stream",
     "text": [
      "[4]\n"
     ]
    }
   ],
   "source": [
    "i=0\n",
    "table=[]\n",
    "for number in range((num_per_table+1)): \n",
    "    if i>0:\n",
    "        tables.append([])\n",
    "        i+=1\n",
    "print(tables)"
   ]
  },
  {
   "cell_type": "code",
   "execution_count": 46,
   "id": "c8e24795-0326-4719-a4cf-1e5846d5a840",
   "metadata": {},
   "outputs": [
    {
     "name": "stdout",
     "output_type": "stream",
     "text": [
      "[]\n"
     ]
    }
   ],
   "source": [
    "i=0\n",
    "tables=[]\n",
    "for number in range((num_per_table+1)): \n",
    "    if i>0:\n",
    "        tables.append([])\n",
    "        i+=1\n",
    "print(tables)"
   ]
  },
  {
   "cell_type": "code",
   "execution_count": 47,
   "id": "78b94f7e-b8ab-4d57-ad14-67d8091a826d",
   "metadata": {},
   "outputs": [
    {
     "name": "stdout",
     "output_type": "stream",
     "text": [
      "[]\n"
     ]
    }
   ],
   "source": [
    "i=0\n",
    "tables=[]\n",
    "for number in range((num_per_table+1)): \n",
    "    if i > 0:\n",
    "        tables.append([])\n",
    "        i+=1\n",
    "print(tables)"
   ]
  },
  {
   "cell_type": "code",
   "execution_count": 48,
   "id": "b8ae4cf1-4f8f-49e3-92c0-7710d8741b79",
   "metadata": {},
   "outputs": [
    {
     "ename": "IndexError",
     "evalue": "list index out of range",
     "output_type": "error",
     "traceback": [
      "\u001b[0;31m---------------------------------------------------------------------------\u001b[0m",
      "\u001b[0;31mIndexError\u001b[0m                                Traceback (most recent call last)",
      "\u001b[0;32m/tmp/ipykernel_1592047/857865168.py\u001b[0m in \u001b[0;36m<module>\u001b[0;34m\u001b[0m\n\u001b[1;32m      3\u001b[0m \u001b[0;32mfor\u001b[0m \u001b[0mguest\u001b[0m \u001b[0;32min\u001b[0m \u001b[0mguests\u001b[0m\u001b[0;34m:\u001b[0m\u001b[0;34m\u001b[0m\u001b[0;34m\u001b[0m\u001b[0m\n\u001b[1;32m      4\u001b[0m     \u001b[0mtable_number\u001b[0m \u001b[0;34m=\u001b[0m \u001b[0mi\u001b[0m \u001b[0;34m//\u001b[0m \u001b[0mguests_per_table\u001b[0m\u001b[0;34m\u001b[0m\u001b[0;34m\u001b[0m\u001b[0m\n\u001b[0;32m----> 5\u001b[0;31m     \u001b[0mtables\u001b[0m\u001b[0;34m[\u001b[0m\u001b[0mtable_number\u001b[0m\u001b[0;34m]\u001b[0m\u001b[0;34m.\u001b[0m\u001b[0mappend\u001b[0m\u001b[0;34m(\u001b[0m\u001b[0mguest\u001b[0m\u001b[0;34m)\u001b[0m\u001b[0;34m\u001b[0m\u001b[0;34m\u001b[0m\u001b[0m\n\u001b[0m\u001b[1;32m      6\u001b[0m     \u001b[0mi\u001b[0m\u001b[0;34m+\u001b[0m\u001b[0;36m1\u001b[0m\u001b[0;34m\u001b[0m\u001b[0;34m\u001b[0m\u001b[0m\n\u001b[1;32m      7\u001b[0m \u001b[0mtables\u001b[0m\u001b[0;34m\u001b[0m\u001b[0;34m\u001b[0m\u001b[0m\n",
      "\u001b[0;31mIndexError\u001b[0m: list index out of range"
     ]
    }
   ],
   "source": [
    "guests_per_table = guestscount // num_per_table\n",
    "i=0\n",
    "for guest in guests:\n",
    "    table_number = i // guests_per_table\n",
    "    tables[table_number].append(guest)\n",
    "    i+1\n",
    "tables"
   ]
  },
  {
   "cell_type": "code",
   "execution_count": 49,
   "id": "896bd19a-3118-4f7f-b466-4c3784fbfce7",
   "metadata": {},
   "outputs": [
    {
     "ename": "IndexError",
     "evalue": "list index out of range",
     "output_type": "error",
     "traceback": [
      "\u001b[0;31m---------------------------------------------------------------------------\u001b[0m",
      "\u001b[0;31mIndexError\u001b[0m                                Traceback (most recent call last)",
      "\u001b[0;32m/tmp/ipykernel_1592047/948699028.py\u001b[0m in \u001b[0;36m<module>\u001b[0;34m\u001b[0m\n\u001b[1;32m      3\u001b[0m \u001b[0;32mfor\u001b[0m \u001b[0mguest\u001b[0m \u001b[0;32min\u001b[0m \u001b[0mguests\u001b[0m\u001b[0;34m:\u001b[0m\u001b[0;34m\u001b[0m\u001b[0;34m\u001b[0m\u001b[0m\n\u001b[1;32m      4\u001b[0m     \u001b[0mtable_number\u001b[0m \u001b[0;34m=\u001b[0m \u001b[0mi\u001b[0m \u001b[0;34m//\u001b[0m \u001b[0mguests_per_table\u001b[0m\u001b[0;34m\u001b[0m\u001b[0;34m\u001b[0m\u001b[0m\n\u001b[0;32m----> 5\u001b[0;31m     \u001b[0mtables\u001b[0m\u001b[0;34m[\u001b[0m\u001b[0mtable_number\u001b[0m\u001b[0;34m]\u001b[0m\u001b[0;34m.\u001b[0m\u001b[0mappend\u001b[0m\u001b[0;34m(\u001b[0m\u001b[0mguest\u001b[0m\u001b[0;34m)\u001b[0m\u001b[0;34m\u001b[0m\u001b[0;34m\u001b[0m\u001b[0m\n\u001b[0m\u001b[1;32m      6\u001b[0m     \u001b[0mi\u001b[0m\u001b[0;34m+=\u001b[0m\u001b[0;36m1\u001b[0m\u001b[0;34m\u001b[0m\u001b[0;34m\u001b[0m\u001b[0m\n\u001b[1;32m      7\u001b[0m \u001b[0mtables\u001b[0m\u001b[0;34m\u001b[0m\u001b[0;34m\u001b[0m\u001b[0m\n",
      "\u001b[0;31mIndexError\u001b[0m: list index out of range"
     ]
    }
   ],
   "source": [
    "guests_per_table = guestscount // num_per_table\n",
    "i=0\n",
    "for guest in guests:\n",
    "    table_number = i // guests_per_table\n",
    "    tables[table_number].append(guest)\n",
    "    i+=1\n",
    "tables"
   ]
  },
  {
   "cell_type": "code",
   "execution_count": 50,
   "id": "6b87d65c-d45a-4bfe-80ab-684fbc115fed",
   "metadata": {},
   "outputs": [
    {
     "name": "stdout",
     "output_type": "stream",
     "text": [
      "[['Maddison Crosby', 'Tristen Nixon', 'Deborah Rosario', 'Jedidiah Tate'], ['Skye Day', 'Kayson Beard', 'Ezra Daugherty', 'Turner Cherry'], ['Nyomi Richardson', 'Robert Quintero', 'Keyla Holt', 'Niko Berger'], ['Laylah Orozco', 'Keanu Reyna', 'Luella Miller', 'Benjamin Avila'], ['Amiyah Whitaker', 'Keith Arnold', 'Finley Guerra', 'Leland Marsh'], []]\n"
     ]
    }
   ],
   "source": [
    "guests_per_table = args.num_per_table\n",
    "tables = [[] for _ in range(guestscount // guests_per_table + 1)]\n",
    "\n",
    "with open(\"guests_20.txt\", 'r') as f:\n",
    "    guests = f.read().strip(\"\\n\").split(\"\\n\")\n",
    "\n",
    "i = 0\n",
    "for guest in guests:\n",
    "    table_number = i // guests_per_table\n",
    "    tables[table_number].append(guest)\n",
    "    i += 1\n",
    "\n",
    "print(tables)\n"
   ]
  },
  {
   "cell_type": "code",
   "execution_count": null,
   "id": "ef95710e-84de-4de8-8ba4-a6015fe7dd8f",
   "metadata": {},
   "outputs": [],
   "source": []
  }
 ],
 "metadata": {
  "kernelspec": {
   "display_name": "Python 3 (ipykernel)",
   "language": "python",
   "name": "python3"
  },
  "language_info": {
   "codemirror_mode": {
    "name": "ipython",
    "version": 3
   },
   "file_extension": ".py",
   "mimetype": "text/x-python",
   "name": "python",
   "nbconvert_exporter": "python",
   "pygments_lexer": "ipython3",
   "version": "3.9.7"
  }
 },
 "nbformat": 4,
 "nbformat_minor": 5
}
